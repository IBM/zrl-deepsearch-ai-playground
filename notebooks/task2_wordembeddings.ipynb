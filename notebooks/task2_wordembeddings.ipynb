{
 "cells": [
  {
   "cell_type": "markdown",
   "id": "3c847642",
   "metadata": {},
   "source": [
    "<font size=\"6\">ML to NLP Workshop for school students</font>\n",
    "\n",
    "Author: Lokesh Mishra\n",
    "\n",
    "---\n",
    " \n",
    "<font size=\"5\"> Task 2 - Word Embeddings</font>\n",
    "\n",
    "The contents of this task are based on these pages:\n",
    "\n",
    "- https://radimrehurek.com/gensim/models/word2vec.html\n",
    "\n",
    "- https://nlp.stanford.edu/projects/glove/\n",
    "\n",
    "- https://jalammar.github.io/illustrated-word2vec/"
   ]
  },
  {
   "cell_type": "markdown",
   "id": "0e620aff",
   "metadata": {},
   "source": [
    "# Import libraries"
   ]
  },
  {
   "cell_type": "code",
   "execution_count": 1,
   "id": "1ee3bdbd",
   "metadata": {
    "ExecuteTime": {
     "end_time": "2022-06-24T13:12:27.300984Z",
     "start_time": "2022-06-24T13:12:27.287051Z"
    }
   },
   "outputs": [],
   "source": [
    "import gensim\n",
    "import gensim.downloader"
   ]
  },
  {
   "cell_type": "code",
   "execution_count": 2,
   "id": "9984664e",
   "metadata": {
    "ExecuteTime": {
     "end_time": "2022-06-24T13:13:55.994630Z",
     "start_time": "2022-06-24T13:12:40.762737Z"
    }
   },
   "outputs": [],
   "source": [
    "model = gensim.downloader.load('glove-wiki-gigaword-300')"
   ]
  },
  {
   "cell_type": "markdown",
   "id": "295c1ebd",
   "metadata": {},
   "source": [
    "# Let's play with some words"
   ]
  },
  {
   "cell_type": "markdown",
   "id": "7f90f183",
   "metadata": {},
   "source": [
    "## What is King - Man + Woman?"
   ]
  },
  {
   "cell_type": "code",
   "execution_count": 5,
   "id": "8b0c8321",
   "metadata": {
    "ExecuteTime": {
     "end_time": "2022-06-24T13:19:58.449469Z",
     "start_time": "2022-06-24T13:19:58.422475Z"
    }
   },
   "outputs": [
    {
     "data": {
      "text/plain": [
       "[('queen', 0.6713277101516724)]"
      ]
     },
     "execution_count": 5,
     "metadata": {},
     "output_type": "execute_result"
    }
   ],
   "source": [
    "model.most_similar(positive=['king','woman'],negative=['man'], topn=1)"
   ]
  },
  {
   "cell_type": "markdown",
   "id": "47ccb4db",
   "metadata": {},
   "source": [
    "Your task is to think and try more examples of the above."
   ]
  },
  {
   "cell_type": "code",
   "execution_count": null,
   "id": "81a3ca97",
   "metadata": {},
   "outputs": [],
   "source": []
  },
  {
   "cell_type": "code",
   "execution_count": null,
   "id": "3db1799a",
   "metadata": {},
   "outputs": [],
   "source": []
  },
  {
   "cell_type": "code",
   "execution_count": null,
   "id": "fee9476d",
   "metadata": {},
   "outputs": [],
   "source": []
  },
  {
   "cell_type": "code",
   "execution_count": null,
   "id": "f038f881",
   "metadata": {},
   "outputs": [],
   "source": []
  },
  {
   "cell_type": "markdown",
   "id": "f4f15299",
   "metadata": {},
   "source": [
    "## Comparatives and Superlatives "
   ]
  },
  {
   "cell_type": "code",
   "execution_count": 4,
   "id": "7a5b0702",
   "metadata": {
    "ExecuteTime": {
     "end_time": "2022-06-24T13:13:56.388417Z",
     "start_time": "2022-06-24T13:13:56.358598Z"
    }
   },
   "outputs": [
    {
     "data": {
      "text/plain": [
       "[('darker', 0.6899605393409729)]"
      ]
     },
     "execution_count": 4,
     "metadata": {},
     "output_type": "execute_result"
    }
   ],
   "source": [
    "model.most_similar(positive=['stronger','dark'],negative=['strong'],topn=1)"
   ]
  },
  {
   "cell_type": "markdown",
   "id": "0eb2d6eb",
   "metadata": {},
   "source": [
    "Your task is to think and try more examples of the above."
   ]
  },
  {
   "cell_type": "code",
   "execution_count": null,
   "id": "f0cc088d",
   "metadata": {},
   "outputs": [],
   "source": []
  },
  {
   "cell_type": "code",
   "execution_count": null,
   "id": "0677a96b",
   "metadata": {},
   "outputs": [],
   "source": []
  },
  {
   "cell_type": "code",
   "execution_count": null,
   "id": "6e953684",
   "metadata": {},
   "outputs": [],
   "source": []
  },
  {
   "cell_type": "code",
   "execution_count": null,
   "id": "9553cadf",
   "metadata": {},
   "outputs": [],
   "source": []
  },
  {
   "cell_type": "markdown",
   "id": "fb92c7f7",
   "metadata": {},
   "source": [
    "## Find similar words"
   ]
  },
  {
   "cell_type": "code",
   "execution_count": 7,
   "id": "f517be63",
   "metadata": {
    "ExecuteTime": {
     "end_time": "2022-06-24T13:24:59.339598Z",
     "start_time": "2022-06-24T13:24:59.308353Z"
    }
   },
   "outputs": [
    {
     "data": {
      "text/plain": [
       "[('suv', 0.7696972489356995),\n",
       " ('vehicle', 0.7469112873077393),\n",
       " ('truck', 0.7312718629837036),\n",
       " ('cars', 0.7033854722976685),\n",
       " ('jeep', 0.6848679184913635)]"
      ]
     },
     "execution_count": 7,
     "metadata": {},
     "output_type": "execute_result"
    }
   ],
   "source": [
    "model.most_similar(positive=['car', 'minivan'], topn=5)"
   ]
  },
  {
   "cell_type": "markdown",
   "id": "7ca364d8",
   "metadata": {},
   "source": [
    "Your task is to think and try more examples of the above."
   ]
  },
  {
   "cell_type": "code",
   "execution_count": null,
   "id": "5a5f3b31",
   "metadata": {},
   "outputs": [],
   "source": []
  },
  {
   "cell_type": "code",
   "execution_count": null,
   "id": "74eb913a",
   "metadata": {},
   "outputs": [],
   "source": []
  },
  {
   "cell_type": "code",
   "execution_count": null,
   "id": "3a4cfdcc",
   "metadata": {},
   "outputs": [],
   "source": []
  },
  {
   "cell_type": "code",
   "execution_count": null,
   "id": "cf9b3fcc",
   "metadata": {},
   "outputs": [],
   "source": []
  },
  {
   "cell_type": "markdown",
   "id": "bb2354ea",
   "metadata": {},
   "source": [
    "## Words that don't belong together"
   ]
  },
  {
   "cell_type": "code",
   "execution_count": 9,
   "id": "a2c91a93",
   "metadata": {
    "ExecuteTime": {
     "end_time": "2022-06-24T13:25:36.863611Z",
     "start_time": "2022-06-24T13:25:36.855764Z"
    }
   },
   "outputs": [
    {
     "data": {
      "text/plain": [
       "'car'"
      ]
     },
     "execution_count": 9,
     "metadata": {},
     "output_type": "execute_result"
    }
   ],
   "source": [
    "model.doesnt_match(['fire', 'water', 'land', 'sea', 'air', 'car'])"
   ]
  },
  {
   "cell_type": "markdown",
   "id": "cbec723e",
   "metadata": {},
   "source": [
    "Your task is to think and try more examples of the above."
   ]
  },
  {
   "cell_type": "code",
   "execution_count": null,
   "id": "a1d5da9b",
   "metadata": {},
   "outputs": [],
   "source": []
  },
  {
   "cell_type": "code",
   "execution_count": null,
   "id": "ad726539",
   "metadata": {},
   "outputs": [],
   "source": []
  },
  {
   "cell_type": "code",
   "execution_count": null,
   "id": "ea7e87e9",
   "metadata": {},
   "outputs": [],
   "source": []
  },
  {
   "cell_type": "code",
   "execution_count": null,
   "id": "4eb4dc3f",
   "metadata": {},
   "outputs": [],
   "source": []
  }
 ],
 "metadata": {
  "kernelspec": {
   "display_name": "Python 3 (ipykernel)",
   "language": "python",
   "name": "python3"
  },
  "language_info": {
   "codemirror_mode": {
    "name": "ipython",
    "version": 3
   },
   "file_extension": ".py",
   "mimetype": "text/x-python",
   "name": "python",
   "nbconvert_exporter": "python",
   "pygments_lexer": "ipython3",
   "version": "3.10.4"
  },
  "toc": {
   "base_numbering": 1,
   "nav_menu": {},
   "number_sections": true,
   "sideBar": true,
   "skip_h1_title": false,
   "title_cell": "Table of Contents",
   "title_sidebar": "Contents",
   "toc_cell": false,
   "toc_position": {},
   "toc_section_display": true,
   "toc_window_display": false
  }
 },
 "nbformat": 4,
 "nbformat_minor": 5
}
