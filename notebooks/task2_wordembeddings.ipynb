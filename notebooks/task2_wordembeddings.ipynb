{
 "cells": [
  {
   "cell_type": "markdown",
   "id": "5ec6ee83",
   "metadata": {},
   "source": [
    "<font size=\"6\">ML to NLP Workshop for school students</font>\n",
    "\n",
    "Author: Lokesh Mishra\n",
    "\n",
    "---\n",
    " \n",
    "<font size=\"5\"> Task 2 - Word Embeddings</font>\n",
    "\n",
    "The contents of this task are based on these pages:\n",
    "\n",
    "- https://radimrehurek.com/gensim/models/word2vec.html\n",
    "\n",
    "- https://nlp.stanford.edu/projects/glove/\n",
    "\n",
    "- https://jalammar.github.io/illustrated-word2vec/"
   ]
  },
  {
   "cell_type": "markdown",
   "id": "6e6c34d6",
   "metadata": {},
   "source": [
    "# Import libraries"
   ]
  },
  {
   "cell_type": "code",
   "execution_count": 1,
   "id": "58495f5a",
   "metadata": {
    "ExecuteTime": {
     "end_time": "2022-06-24T13:12:27.300984Z",
     "start_time": "2022-06-24T13:12:27.287051Z"
    }
   },
   "outputs": [],
   "source": [
    "import gensim\n",
    "import gensim.downloader"
   ]
  },
  {
   "cell_type": "code",
   "execution_count": 2,
   "id": "55d4cf6d",
   "metadata": {
    "ExecuteTime": {
     "end_time": "2022-06-24T13:13:55.994630Z",
     "start_time": "2022-06-24T13:12:40.762737Z"
    }
   },
   "outputs": [],
   "source": [
    "model = gensim.downloader.load('glove-wiki-gigaword-300')"
   ]
  },
  {
   "cell_type": "markdown",
   "id": "e3996696",
   "metadata": {},
   "source": [
    "# Let's play with some words"
   ]
  },
  {
   "cell_type": "markdown",
   "id": "f231eb5f",
   "metadata": {},
   "source": [
    "## What is King - Man + Woman?"
   ]
  },
  {
   "cell_type": "code",
   "execution_count": 5,
   "id": "264deb48",
   "metadata": {
    "ExecuteTime": {
     "end_time": "2022-06-24T13:19:58.449469Z",
     "start_time": "2022-06-24T13:19:58.422475Z"
    }
   },
   "outputs": [
    {
     "data": {
      "text/plain": [
       "[('queen', 0.6713277101516724)]"
      ]
     },
     "execution_count": 5,
     "metadata": {},
     "output_type": "execute_result"
    }
   ],
   "source": [
    "model.most_similar(positive=['king','woman'],negative=['man'], topn=1)"
   ]
  },
  {
   "cell_type": "markdown",
   "id": "5c20e223",
   "metadata": {},
   "source": [
    "Your task is to think and try more examples of the above."
   ]
  },
  {
   "cell_type": "code",
   "execution_count": null,
   "id": "a81fb4e6",
   "metadata": {},
   "outputs": [],
   "source": []
  },
  {
   "cell_type": "code",
   "execution_count": null,
   "id": "e818507f",
   "metadata": {},
   "outputs": [],
   "source": []
  },
  {
   "cell_type": "code",
   "execution_count": null,
   "id": "2e3f43ca",
   "metadata": {},
   "outputs": [],
   "source": []
  },
  {
   "cell_type": "code",
   "execution_count": null,
   "id": "26d80b85",
   "metadata": {},
   "outputs": [],
   "source": []
  },
  {
   "cell_type": "markdown",
   "id": "2f70d08b",
   "metadata": {},
   "source": [
    "## Comparatives and Superlatives "
   ]
  },
  {
   "cell_type": "code",
   "execution_count": 4,
   "id": "5ea53bd2",
   "metadata": {
    "ExecuteTime": {
     "end_time": "2022-06-24T13:13:56.388417Z",
     "start_time": "2022-06-24T13:13:56.358598Z"
    }
   },
   "outputs": [
    {
     "data": {
      "text/plain": [
       "[('darker', 0.6899605393409729)]"
      ]
     },
     "execution_count": 4,
     "metadata": {},
     "output_type": "execute_result"
    }
   ],
   "source": [
    "model.most_similar(positive=['stronger','dark'],negative=['strong'],topn=1)"
   ]
  },
  {
   "cell_type": "markdown",
   "id": "ec323439",
   "metadata": {},
   "source": [
    "Your task is to think and try more examples of the above."
   ]
  },
  {
   "cell_type": "code",
   "execution_count": null,
   "id": "0cf42a68",
   "metadata": {},
   "outputs": [],
   "source": []
  },
  {
   "cell_type": "code",
   "execution_count": null,
   "id": "554715a3",
   "metadata": {},
   "outputs": [],
   "source": []
  },
  {
   "cell_type": "code",
   "execution_count": null,
   "id": "e84e1a37",
   "metadata": {},
   "outputs": [],
   "source": []
  },
  {
   "cell_type": "code",
   "execution_count": null,
   "id": "7c36da5f",
   "metadata": {},
   "outputs": [],
   "source": []
  },
  {
   "cell_type": "markdown",
   "id": "b0604e5f",
   "metadata": {},
   "source": [
    "## Find similar words"
   ]
  },
  {
   "cell_type": "code",
   "execution_count": 7,
   "id": "c5512fac",
   "metadata": {
    "ExecuteTime": {
     "end_time": "2022-06-24T13:24:59.339598Z",
     "start_time": "2022-06-24T13:24:59.308353Z"
    }
   },
   "outputs": [
    {
     "data": {
      "text/plain": [
       "[('suv', 0.7696972489356995),\n",
       " ('vehicle', 0.7469112873077393),\n",
       " ('truck', 0.7312718629837036),\n",
       " ('cars', 0.7033854722976685),\n",
       " ('jeep', 0.6848679184913635)]"
      ]
     },
     "execution_count": 7,
     "metadata": {},
     "output_type": "execute_result"
    }
   ],
   "source": [
    "model.most_similar(positive=['car', 'minivan'], topn=5)"
   ]
  },
  {
   "cell_type": "markdown",
   "id": "15777191",
   "metadata": {},
   "source": [
    "Your task is to think and try more examples of the above."
   ]
  },
  {
   "cell_type": "code",
   "execution_count": null,
   "id": "3ad1d6b1",
   "metadata": {},
   "outputs": [],
   "source": []
  },
  {
   "cell_type": "code",
   "execution_count": null,
   "id": "805660fc",
   "metadata": {},
   "outputs": [],
   "source": []
  },
  {
   "cell_type": "code",
   "execution_count": null,
   "id": "a3f2ceef",
   "metadata": {},
   "outputs": [],
   "source": []
  },
  {
   "cell_type": "code",
   "execution_count": null,
   "id": "05ed76a3",
   "metadata": {},
   "outputs": [],
   "source": []
  },
  {
   "cell_type": "markdown",
   "id": "11be9c31",
   "metadata": {},
   "source": [
    "## Words that don't belong together"
   ]
  },
  {
   "cell_type": "code",
   "execution_count": 9,
   "id": "6912999e",
   "metadata": {
    "ExecuteTime": {
     "end_time": "2022-06-24T13:25:36.863611Z",
     "start_time": "2022-06-24T13:25:36.855764Z"
    }
   },
   "outputs": [
    {
     "data": {
      "text/plain": [
       "'car'"
      ]
     },
     "execution_count": 9,
     "metadata": {},
     "output_type": "execute_result"
    }
   ],
   "source": [
    "model.doesnt_match(['fire', 'water', 'land', 'sea', 'air', 'car'])"
   ]
  },
  {
   "cell_type": "markdown",
   "id": "7c1bab05",
   "metadata": {},
   "source": [
    "Your task is to think and try more examples of the above."
   ]
  },
  {
   "cell_type": "code",
   "execution_count": null,
   "id": "ae30c891",
   "metadata": {},
   "outputs": [],
   "source": []
  },
  {
   "cell_type": "code",
   "execution_count": null,
   "id": "68873cfa",
   "metadata": {},
   "outputs": [],
   "source": []
  },
  {
   "cell_type": "code",
   "execution_count": null,
   "id": "0f91b842",
   "metadata": {},
   "outputs": [],
   "source": []
  },
  {
   "cell_type": "code",
   "execution_count": null,
   "id": "72f5a2ed",
   "metadata": {},
   "outputs": [],
   "source": []
  }
 ],
 "metadata": {
  "kernelspec": {
   "display_name": "Python 3 (ipykernel)",
   "language": "python",
   "name": "python3"
  },
  "language_info": {
   "codemirror_mode": {
    "name": "ipython",
    "version": 3
   },
   "file_extension": ".py",
   "mimetype": "text/x-python",
   "name": "python",
   "nbconvert_exporter": "python",
   "pygments_lexer": "ipython3",
   "version": "3.10.4"
  },
  "toc": {
   "base_numbering": 1,
   "nav_menu": {},
   "number_sections": true,
   "sideBar": true,
   "skip_h1_title": false,
   "title_cell": "Table of Contents",
   "title_sidebar": "Contents",
   "toc_cell": false,
   "toc_position": {},
   "toc_section_display": true,
   "toc_window_display": false
  }
 },
 "nbformat": 4,
 "nbformat_minor": 5
}
